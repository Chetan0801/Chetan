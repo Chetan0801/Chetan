{
 "cells": [
  {
   "cell_type": "code",
   "execution_count": 7,
   "id": "b6131e36-e993-482b-b933-672875c07472",
   "metadata": {},
   "outputs": [
    {
     "data": {
      "text/plain": [
       "68"
      ]
     },
     "execution_count": 7,
     "metadata": {},
     "output_type": "execute_result"
    }
   ],
   "source": [
    "23 + 45"
   ]
  },
  {
   "cell_type": "code",
   "execution_count": 2,
   "id": "f09578da-29cf-410e-ae73-fb1812a2c7ae",
   "metadata": {},
   "outputs": [
    {
     "data": {
      "text/plain": [
       "29"
      ]
     },
     "execution_count": 2,
     "metadata": {},
     "output_type": "execute_result"
    }
   ],
   "source": [
    "67 - 38"
   ]
  },
  {
   "cell_type": "code",
   "execution_count": 3,
   "id": "df7eb336-6054-4810-af12-580e8b66367a",
   "metadata": {},
   "outputs": [
    {
     "data": {
      "text/plain": [
       "180"
      ]
     },
     "execution_count": 3,
     "metadata": {},
     "output_type": "execute_result"
    }
   ],
   "source": [
    "45 * 4"
   ]
  },
  {
   "cell_type": "code",
   "execution_count": 5,
   "id": "4a44276e-8f65-4997-be3b-e247e022af1e",
   "metadata": {},
   "outputs": [
    {
     "name": "stdout",
     "output_type": "stream",
     "text": [
      "hello world\n"
     ]
    }
   ],
   "source": [
    "print(\"hello world\")"
   ]
  },
  {
   "cell_type": "code",
   "execution_count": null,
   "id": "2369b887-a1fc-4109-a340-a7ec42024280",
   "metadata": {},
   "outputs": [],
   "source": [
    "#bread \n",
    "##"
   ]
  },
  {
   "cell_type": "code",
   "execution_count": null,
   "id": "ccc54c02-8736-46b4-9594-4ae0fc74ef05",
   "metadata": {},
   "outputs": [],
   "source": []
  },
  {
   "cell_type": "code",
   "execution_count": 8,
   "id": "90206bf1-4b90-4c6b-8081-c756846dc8fc",
   "metadata": {
    "scrolled": true
   },
   "outputs": [
    {
     "data": {
      "text/plain": [
       "123"
      ]
     },
     "execution_count": 8,
     "metadata": {},
     "output_type": "execute_result"
    }
   ],
   "source": [
    "123"
   ]
  },
  {
   "cell_type": "code",
   "execution_count": 9,
   "id": "fef26403-2106-47f2-a66b-2899e0204dec",
   "metadata": {},
   "outputs": [
    {
     "data": {
      "text/plain": [
       "33"
      ]
     },
     "execution_count": 9,
     "metadata": {},
     "output_type": "execute_result"
    }
   ],
   "source": [
    "12+21"
   ]
  },
  {
   "cell_type": "code",
   "execution_count": 11,
   "id": "280b70d1-f348-4ad0-8bd0-6305453b685a",
   "metadata": {},
   "outputs": [
    {
     "data": {
      "text/plain": [
       "15525"
      ]
     },
     "execution_count": 11,
     "metadata": {},
     "output_type": "execute_result"
    }
   ],
   "source": [
    "345*45"
   ]
  },
  {
   "cell_type": "code",
   "execution_count": 13,
   "id": "0beb1d2c-7aac-44f3-9e49-c5a18a196553",
   "metadata": {},
   "outputs": [
    {
     "data": {
      "text/plain": [
       "112"
      ]
     },
     "execution_count": 13,
     "metadata": {},
     "output_type": "execute_result"
    }
   ],
   "source": [
    "78+34"
   ]
  },
  {
   "cell_type": "code",
   "execution_count": null,
   "id": "3d30027b-f574-4561-8ba3-4f8a6bbcb0db",
   "metadata": {},
   "outputs": [],
   "source": []
  },
  {
   "cell_type": "code",
   "execution_count": 14,
   "id": "7902bd81-c131-45f6-b371-d65908682845",
   "metadata": {},
   "outputs": [
    {
     "data": {
      "text/plain": [
       "68"
      ]
     },
     "execution_count": 14,
     "metadata": {},
     "output_type": "execute_result"
    }
   ],
   "source": [
    "45+23"
   ]
  },
  {
   "cell_type": "code",
   "execution_count": 15,
   "id": "aa8f25b9-b717-4878-8e3a-8e8f1e464581",
   "metadata": {},
   "outputs": [
    {
     "data": {
      "text/plain": [
       "68"
      ]
     },
     "execution_count": 15,
     "metadata": {},
     "output_type": "execute_result"
    }
   ],
   "source": [
    "_"
   ]
  },
  {
   "cell_type": "code",
   "execution_count": 16,
   "id": "0534574b-c538-4898-84d1-c94e24bcd9be",
   "metadata": {},
   "outputs": [
    {
     "name": "stdout",
     "output_type": "stream",
     "text": [
      "45+23\n"
     ]
    }
   ],
   "source": [
    "print(\"45+23\")"
   ]
  },
  {
   "cell_type": "code",
   "execution_count": 20,
   "id": "cc95d0ab-c3c1-4abe-aae1-465173875abe",
   "metadata": {},
   "outputs": [],
   "source": [
    "a = 10"
   ]
  },
  {
   "cell_type": "code",
   "execution_count": 21,
   "id": "760da0ca-b3e8-45a1-bd7e-16ce03fe7e6a",
   "metadata": {},
   "outputs": [
    {
     "data": {
      "text/plain": [
       "10"
      ]
     },
     "execution_count": 21,
     "metadata": {},
     "output_type": "execute_result"
    }
   ],
   "source": [
    "a"
   ]
  },
  {
   "cell_type": "code",
   "execution_count": 22,
   "id": "edb0691b-a9c8-4cf7-8d6e-368181180cc1",
   "metadata": {},
   "outputs": [
    {
     "data": {
      "text/plain": [
       "140708444128456"
      ]
     },
     "execution_count": 22,
     "metadata": {},
     "output_type": "execute_result"
    }
   ],
   "source": [
    "id(a)"
   ]
  },
  {
   "cell_type": "code",
   "execution_count": 23,
   "id": "f1073a47-fd6b-4378-b945-4df00a7bff70",
   "metadata": {},
   "outputs": [],
   "source": [
    "del a"
   ]
  },
  {
   "cell_type": "code",
   "execution_count": 24,
   "id": "6993e0eb-78da-403e-8873-fb9423fc9ff6",
   "metadata": {},
   "outputs": [
    {
     "ename": "NameError",
     "evalue": "name 'a' is not defined",
     "output_type": "error",
     "traceback": [
      "\u001b[31m---------------------------------------------------------------------------\u001b[39m",
      "\u001b[31mNameError\u001b[39m                                 Traceback (most recent call last)",
      "\u001b[36mCell\u001b[39m\u001b[36m \u001b[39m\u001b[32mIn[24]\u001b[39m\u001b[32m, line 1\u001b[39m\n\u001b[32m----> \u001b[39m\u001b[32m1\u001b[39m \u001b[43ma\u001b[49m\n",
      "\u001b[31mNameError\u001b[39m: name 'a' is not defined"
     ]
    }
   ],
   "source": [
    "a"
   ]
  },
  {
   "cell_type": "code",
   "execution_count": 25,
   "id": "bccd70c1-75e5-4d84-8064-4a7a30b748e6",
   "metadata": {},
   "outputs": [],
   "source": [
    "chetan = 11"
   ]
  },
  {
   "cell_type": "code",
   "execution_count": 26,
   "id": "e03a402b-a12f-4e23-84dc-ead61d98cf60",
   "metadata": {},
   "outputs": [
    {
     "data": {
      "text/plain": [
       "11"
      ]
     },
     "execution_count": 26,
     "metadata": {},
     "output_type": "execute_result"
    }
   ],
   "source": [
    "chetan"
   ]
  },
  {
   "cell_type": "markdown",
   "id": "3ebfda22-78ef-4c5b-bf4b-9f09d622fae1",
   "metadata": {},
   "source": [
    "# Hello\n",
    "## Hello\n",
    "### Hello\n",
    "#### Hello\n",
    "##### Hello"
   ]
  },
  {
   "cell_type": "code",
   "execution_count": 27,
   "id": "8bd66f49-278f-4395-9135-d6234b7d541a",
   "metadata": {},
   "outputs": [
    {
     "data": {
      "text/plain": [
       "int"
      ]
     },
     "execution_count": 27,
     "metadata": {},
     "output_type": "execute_result"
    }
   ],
   "source": [
    "b = 23\n",
    "type(b)"
   ]
  },
  {
   "cell_type": "code",
   "execution_count": 28,
   "id": "f5af0caa-71c3-4c9e-8eb1-502cd5b7cc80",
   "metadata": {},
   "outputs": [
    {
     "data": {
      "text/plain": [
       "(12+3j)"
      ]
     },
     "execution_count": 28,
     "metadata": {},
     "output_type": "execute_result"
    }
   ],
   "source": [
    "12+3j"
   ]
  },
  {
   "cell_type": "code",
   "execution_count": 30,
   "id": "15206e6f-1063-4d47-ac99-ce96e26ab0b4",
   "metadata": {},
   "outputs": [],
   "source": [
    "Chetan=11"
   ]
  },
  {
   "cell_type": "code",
   "execution_count": 31,
   "id": "108e4552-d766-44a3-a937-fe37c7796f7d",
   "metadata": {},
   "outputs": [
    {
     "data": {
      "text/plain": [
       "11"
      ]
     },
     "execution_count": 31,
     "metadata": {},
     "output_type": "execute_result"
    }
   ],
   "source": [
    "Chetan"
   ]
  },
  {
   "cell_type": "code",
   "execution_count": 40,
   "id": "c12af030-c07d-4620-a790-98f4ca0087b3",
   "metadata": {},
   "outputs": [],
   "source": [
    "a = \"hello world and hi my user chetan\"\n",
    " "
   ]
  },
  {
   "cell_type": "code",
   "execution_count": 41,
   "id": "97c1a76c-3ac8-4286-ac6d-7893d0fbba08",
   "metadata": {},
   "outputs": [
    {
     "data": {
      "text/plain": [
       "'hello world and hi my user chetan'"
      ]
     },
     "execution_count": 41,
     "metadata": {},
     "output_type": "execute_result"
    }
   ],
   "source": [
    "a"
   ]
  },
  {
   "cell_type": "markdown",
   "id": "77a2228e-3156-4e88-b2c1-2caf866bd735",
   "metadata": {},
   "source": [
    "# Bread\n",
    "## Bread\n",
    "### Bread\n",
    "#### Bread\n",
    "##### Bread\n",
    "###### Bread\n",
    "####### Bread"
   ]
  },
  {
   "cell_type": "code",
   "execution_count": 42,
   "id": "20d962e2-2ee1-4e8f-bbb9-878306fc962f",
   "metadata": {},
   "outputs": [
    {
     "data": {
      "text/plain": [
       "(11+12j)"
      ]
     },
     "execution_count": 42,
     "metadata": {},
     "output_type": "execute_result"
    }
   ],
   "source": [
    "11+12j"
   ]
  },
  {
   "cell_type": "code",
   "execution_count": 50,
   "id": "23ec6303-4230-4ddc-a103-ddbb0ba0ea41",
   "metadata": {},
   "outputs": [
    {
     "data": {
      "text/plain": [
       "complex"
      ]
     },
     "execution_count": 50,
     "metadata": {},
     "output_type": "execute_result"
    }
   ],
   "source": [
    "a=11+12j\n",
    "type(a) "
   ]
  },
  {
   "cell_type": "code",
   "execution_count": 47,
   "id": "ac8e3396-0def-4d9a-93d9-54b5adfecdda",
   "metadata": {},
   "outputs": [
    {
     "data": {
      "text/plain": [
       "(11+12j)"
      ]
     },
     "execution_count": 47,
     "metadata": {},
     "output_type": "execute_result"
    }
   ],
   "source": [
    "a"
   ]
  },
  {
   "cell_type": "code",
   "execution_count": 49,
   "id": "f4617729-3d69-4d91-951b-d12cc34b2e05",
   "metadata": {},
   "outputs": [
    {
     "data": {
      "text/plain": [
       "complex"
      ]
     },
     "execution_count": 49,
     "metadata": {},
     "output_type": "execute_result"
    }
   ],
   "source": [
    "type(a)"
   ]
  },
  {
   "cell_type": "code",
   "execution_count": 51,
   "id": "157289af-dffb-46b7-9ac2-e93d91191ef1",
   "metadata": {},
   "outputs": [],
   "source": [
    "#integer \n",
    "a= 12\n",
    "#float \n",
    "b= 12.0\n",
    "#float\n",
    "c= 3.6\n",
    "#Boolean\n",
    "d= True\n",
    "#Boolean\n",
    "e= False\n",
    "#String\n",
    "f= \"Computer Science\"\n",
    "#Complex\n",
    "g= 11+32j"
   ]
  },
  {
   "cell_type": "code",
   "execution_count": 52,
   "id": "388bebc8-92bc-4d69-a352-749d3bdb72f9",
   "metadata": {},
   "outputs": [
    {
     "name": "stdout",
     "output_type": "stream",
     "text": [
      "1 . 12 its Data type is <class 'int'>\n",
      "1 . 12 it is Stored in this location 140708444128520\n",
      "2 . 12.0 its Data type is <class 'float'>\n",
      "2 . 12.0 it is Stored in this location 1398259381520\n",
      "3 . 3.6 its Data type is <class 'float'>\n",
      "3 . 3.6 it is Stored in this location 1398186488816\n",
      "4 . True its Data type is <class 'bool'>\n",
      "4 . True it is Stored in this location 140708443242928\n",
      "5 . False its Data type is <class 'bool'>\n",
      "5 . False it is Stored in this location 140708443242960\n",
      "6 . Computer Science its Data type is <class 'str'>\n",
      "6 . Computer Science it is Stored in this location 1398292188912\n",
      "7 . (11+32j) its Data type is <class 'complex'>\n",
      "7 . (11+32j) it is Stored in this location 1398291150416\n"
     ]
    }
   ],
   "source": [
    "variables = [a,b,c,d,e,f,g] \n",
    "x= 1\n",
    "for each in variables:\n",
    "    print(\"{} . {} its Data type is {}\".format(x,each,type(each)))\n",
    "    print(\"{} . {} it is Stored in this location {}\".format(x,each,id(each)))\n",
    "    x = x +1"
   ]
  },
  {
   "cell_type": "code",
   "execution_count": 53,
   "id": "306e3111-5d54-4bb1-985c-25524f90e454",
   "metadata": {},
   "outputs": [],
   "source": [
    "c= 12+36j"
   ]
  },
  {
   "cell_type": "code",
   "execution_count": 54,
   "id": "2709d7ab-5470-4221-a551-1aa43629d754",
   "metadata": {},
   "outputs": [],
   "source": [
    "d= -23"
   ]
  },
  {
   "cell_type": "code",
   "execution_count": 55,
   "id": "f7a396c1-40ca-4982-80a0-c13160866dc8",
   "metadata": {},
   "outputs": [],
   "source": [
    "f= True"
   ]
  },
  {
   "cell_type": "code",
   "execution_count": 56,
   "id": "cdaaae11-c578-446b-ad62-1bad7ce4bcbe",
   "metadata": {},
   "outputs": [],
   "source": [
    "g=\"Genrative Ai\""
   ]
  },
  {
   "cell_type": "code",
   "execution_count": 57,
   "id": "4e3bd4db-2165-47ba-8c59-9ce2d31afcb2",
   "metadata": {},
   "outputs": [
    {
     "name": "stdout",
     "output_type": "stream",
     "text": [
      "1 . 12 its Data type is <class 'int'>\n",
      "1 . 12 it is Stored in this location 140708444128520\n",
      "2 . 12.0 its Data type is <class 'float'>\n",
      "2 . 12.0 it is Stored in this location 1398259381520\n",
      "3 . (12+36j) its Data type is <class 'complex'>\n",
      "3 . (12+36j) it is Stored in this location 1398291150736\n",
      "4 . -23 its Data type is <class 'int'>\n",
      "4 . -23 it is Stored in this location 1398291150000\n",
      "5 . False its Data type is <class 'bool'>\n",
      "5 . False it is Stored in this location 140708443242960\n",
      "6 . True its Data type is <class 'bool'>\n",
      "6 . True it is Stored in this location 140708443242928\n",
      "7 . Genrative Ai its Data type is <class 'str'>\n",
      "7 . Genrative Ai it is Stored in this location 1398292195696\n"
     ]
    }
   ],
   "source": [
    "variables = [a,b,c,d,e,f,g] \n",
    "x= 1\n",
    "for each in variables:\n",
    "    print(\"{} . {} its Data type is {}\".format(x,each,type(each)))\n",
    "    print(\"{} . {} it is Stored in this location {}\".format(x,each,id(each)))\n",
    "    x = x +1"
   ]
  },
  {
   "cell_type": "code",
   "execution_count": 58,
   "id": "6c1b0022-0e08-4017-8408-7eee7496bbee",
   "metadata": {},
   "outputs": [],
   "source": [
    "a =78\n",
    "b =3.72\n",
    "c =False\n",
    "d =\"today is the seventh\"\n",
    "e =24+32j"
   ]
  },
  {
   "cell_type": "code",
   "execution_count": 59,
   "id": "bf9ebb3f-3004-4255-b7c6-7a03fccee9bf",
   "metadata": {},
   "outputs": [],
   "source": [
    "f=False"
   ]
  },
  {
   "cell_type": "code",
   "execution_count": 60,
   "id": "a040879a-5a12-4159-b55d-569734399c26",
   "metadata": {},
   "outputs": [
    {
     "data": {
      "text/plain": [
       "140708443242960"
      ]
     },
     "execution_count": 60,
     "metadata": {},
     "output_type": "execute_result"
    }
   ],
   "source": [
    "(id(c))"
   ]
  },
  {
   "cell_type": "code",
   "execution_count": 61,
   "id": "244be5db-860d-47ad-8ea2-b16348c33e13",
   "metadata": {},
   "outputs": [
    {
     "data": {
      "text/plain": [
       "140708443242960"
      ]
     },
     "execution_count": 61,
     "metadata": {},
     "output_type": "execute_result"
    }
   ],
   "source": [
    "(id(f))"
   ]
  },
  {
   "cell_type": "code",
   "execution_count": 62,
   "id": "5a25b39b-a936-4e8b-b910-56fd2b159962",
   "metadata": {},
   "outputs": [],
   "source": [
    "del a"
   ]
  },
  {
   "cell_type": "code",
   "execution_count": 65,
   "id": "f3919255-c07c-4c7b-9df2-09385925193d",
   "metadata": {},
   "outputs": [],
   "source": [
    "a= 12"
   ]
  },
  {
   "cell_type": "code",
   "execution_count": 66,
   "id": "930ab540-5d01-4584-8e05-31932c40e43d",
   "metadata": {},
   "outputs": [
    {
     "data": {
      "text/plain": [
       "'0b1100'"
      ]
     },
     "execution_count": 66,
     "metadata": {},
     "output_type": "execute_result"
    }
   ],
   "source": [
    "bin(a)"
   ]
  },
  {
   "cell_type": "code",
   "execution_count": 67,
   "id": "57c889a8-9aac-4d12-b0d0-6a5a0b1e59f5",
   "metadata": {},
   "outputs": [
    {
     "data": {
      "text/plain": [
       "'0o14'"
      ]
     },
     "execution_count": 67,
     "metadata": {},
     "output_type": "execute_result"
    }
   ],
   "source": [
    "oct(a)"
   ]
  },
  {
   "cell_type": "code",
   "execution_count": 69,
   "id": "e0c34d54-395a-4401-b861-990b42981eb3",
   "metadata": {},
   "outputs": [
    {
     "data": {
      "text/plain": [
       "'0xc'"
      ]
     },
     "execution_count": 69,
     "metadata": {},
     "output_type": "execute_result"
    }
   ],
   "source": [
    "hex(a)"
   ]
  },
  {
   "cell_type": "code",
   "execution_count": 71,
   "id": "d40ca91c-75dd-41f5-97c1-964ec907016a",
   "metadata": {},
   "outputs": [],
   "source": [
    "b=23"
   ]
  },
  {
   "cell_type": "code",
   "execution_count": 72,
   "id": "1c85e32c-105a-4cb0-b808-4eea35bd249b",
   "metadata": {},
   "outputs": [
    {
     "data": {
      "text/plain": [
       "'0o140x17'"
      ]
     },
     "execution_count": 72,
     "metadata": {},
     "output_type": "execute_result"
    }
   ],
   "source": [
    "(oct(a)+hex(b))"
   ]
  },
  {
   "cell_type": "code",
   "execution_count": 75,
   "id": "1a83f0d4-89f7-43c2-86c8-a7055c6ca852",
   "metadata": {},
   "outputs": [
    {
     "data": {
      "text/plain": [
       "4.733333333333333"
      ]
     },
     "execution_count": 75,
     "metadata": {},
     "output_type": "execute_result"
    }
   ],
   "source": [
    "23*(23+48)/345"
   ]
  },
  {
   "cell_type": "code",
   "execution_count": 76,
   "id": "44b0bca7-3cb9-4499-a3af-62e6aed4422e",
   "metadata": {},
   "outputs": [
    {
     "data": {
      "text/plain": [
       "48.029411764705884"
      ]
     },
     "execution_count": 76,
     "metadata": {},
     "output_type": "execute_result"
    }
   ],
   "source": [
    "23*(23+48)/34"
   ]
  },
  {
   "cell_type": "code",
   "execution_count": 77,
   "id": "213e6c99-2f8a-4fbb-97b2-054acc39ee48",
   "metadata": {},
   "outputs": [
    {
     "data": {
      "text/plain": [
       "1633"
      ]
     },
     "execution_count": 77,
     "metadata": {},
     "output_type": "execute_result"
    }
   ],
   "source": [
    "23*(23+48)"
   ]
  },
  {
   "cell_type": "code",
   "execution_count": 79,
   "id": "5eccc77b-48ca-4dcc-9804-2ef1fdadc32d",
   "metadata": {},
   "outputs": [
    {
     "data": {
      "text/plain": [
       "1"
      ]
     },
     "execution_count": 79,
     "metadata": {},
     "output_type": "execute_result"
    }
   ],
   "source": [
    "45*(72-68)//138"
   ]
  },
  {
   "cell_type": "code",
   "execution_count": 80,
   "id": "6d51df4e-66d2-4287-9713-a354a25ee04d",
   "metadata": {},
   "outputs": [
    {
     "data": {
      "text/plain": [
       "0.0"
      ]
     },
     "execution_count": 80,
     "metadata": {},
     "output_type": "execute_result"
    }
   ],
   "source": [
    "68/(1654+2354)//67"
   ]
  },
  {
   "cell_type": "code",
   "execution_count": 82,
   "id": "0bbdfe6a-5bc1-433c-8d14-083da5b21dd1",
   "metadata": {},
   "outputs": [],
   "source": [
    " a=\"Hi This is Data Analaytics\""
   ]
  },
  {
   "cell_type": "code",
   "execution_count": 83,
   "id": "0ecf02a9-a974-4258-882e-9b95984244a4",
   "metadata": {},
   "outputs": [
    {
     "data": {
      "text/plain": [
       "21"
      ]
     },
     "execution_count": 83,
     "metadata": {},
     "output_type": "execute_result"
    }
   ],
   "source": [
    "a.index(\"y\")"
   ]
  },
  {
   "cell_type": "code",
   "execution_count": 84,
   "id": "19f5e44c-2653-4f9c-98e5-ed14200253e3",
   "metadata": {
    "scrolled": true
   },
   "outputs": [
    {
     "ename": "NameError",
     "evalue": "name 'y' is not defined",
     "output_type": "error",
     "traceback": [
      "\u001b[31m---------------------------------------------------------------------------\u001b[39m",
      "\u001b[31mNameError\u001b[39m                                 Traceback (most recent call last)",
      "\u001b[36mCell\u001b[39m\u001b[36m \u001b[39m\u001b[32mIn[84]\u001b[39m\u001b[32m, line 1\u001b[39m\n\u001b[32m----> \u001b[39m\u001b[32m1\u001b[39m a.index(\u001b[43my\u001b[49m)\n",
      "\u001b[31mNameError\u001b[39m: name 'y' is not defined"
     ]
    }
   ],
   "source": [
    "a.index(y)"
   ]
  },
  {
   "cell_type": "code",
   "execution_count": 85,
   "id": "6eb14ac5-aee8-4780-9e6f-4a6fba08bb44",
   "metadata": {},
   "outputs": [],
   "source": [
    "f=345"
   ]
  },
  {
   "cell_type": "code",
   "execution_count": 86,
   "id": "37860c2b-3e9c-4086-a3ca-c53a4803baec",
   "metadata": {},
   "outputs": [
    {
     "data": {
      "text/plain": [
       "'0o531'"
      ]
     },
     "execution_count": 86,
     "metadata": {},
     "output_type": "execute_result"
    }
   ],
   "source": [
    "oct(f)"
   ]
  },
  {
   "cell_type": "code",
   "execution_count": 87,
   "id": "1aa48615-ad64-4ac9-96d6-ab75eb47281d",
   "metadata": {},
   "outputs": [
    {
     "data": {
      "text/plain": [
       "'0x159'"
      ]
     },
     "execution_count": 87,
     "metadata": {},
     "output_type": "execute_result"
    }
   ],
   "source": [
    "hex(f)"
   ]
  },
  {
   "cell_type": "code",
   "execution_count": 88,
   "id": "f53e073c-4ef2-476a-b41a-7d0702a55ea4",
   "metadata": {},
   "outputs": [
    {
     "data": {
      "text/plain": [
       "'0b101011001'"
      ]
     },
     "execution_count": 88,
     "metadata": {},
     "output_type": "execute_result"
    }
   ],
   "source": [
    "bin(f)"
   ]
  },
  {
   "cell_type": "code",
   "execution_count": 89,
   "id": "f8bcb1fd-f56d-40d7-9650-192f04fa6008",
   "metadata": {},
   "outputs": [
    {
     "data": {
      "text/plain": [
       "3"
      ]
     },
     "execution_count": 89,
     "metadata": {},
     "output_type": "execute_result"
    }
   ],
   "source": [
    "a.index(\"T\")"
   ]
  },
  {
   "cell_type": "code",
   "execution_count": 90,
   "id": "3344cf4b-d950-4e81-b59c-0b8f787c114f",
   "metadata": {},
   "outputs": [
    {
     "data": {
      "text/plain": [
       "1398292693808"
      ]
     },
     "execution_count": 90,
     "metadata": {},
     "output_type": "execute_result"
    }
   ],
   "source": [
    "id(f)"
   ]
  },
  {
   "cell_type": "code",
   "execution_count": 91,
   "id": "d87f56fb-21a3-492d-926f-292d6161ed63",
   "metadata": {},
   "outputs": [],
   "source": [
    "f=234"
   ]
  },
  {
   "cell_type": "code",
   "execution_count": 92,
   "id": "0c280742-d31a-4184-82e1-9cc29f823ad3",
   "metadata": {},
   "outputs": [
    {
     "data": {
      "text/plain": [
       "140708444135624"
      ]
     },
     "execution_count": 92,
     "metadata": {},
     "output_type": "execute_result"
    }
   ],
   "source": [
    "id(f)"
   ]
  },
  {
   "cell_type": "code",
   "execution_count": 93,
   "id": "ad40a0d7-bf97-444a-9dc7-066adddac9a8",
   "metadata": {},
   "outputs": [],
   "source": [
    "f=345"
   ]
  },
  {
   "cell_type": "code",
   "execution_count": 94,
   "id": "ae6ba433-399d-49c2-ab75-0d19fcc51296",
   "metadata": {},
   "outputs": [
    {
     "data": {
      "text/plain": [
       "1398292694032"
      ]
     },
     "execution_count": 94,
     "metadata": {},
     "output_type": "execute_result"
    }
   ],
   "source": [
    "id(f)"
   ]
  },
  {
   "cell_type": "code",
   "execution_count": 95,
   "id": "9835e4b6-407a-460c-a728-a71e9c5c9937",
   "metadata": {},
   "outputs": [],
   "source": [
    "f=\"Hi hello world\""
   ]
  },
  {
   "cell_type": "code",
   "execution_count": 96,
   "id": "34929eb4-453c-4742-b123-5fa607576e39",
   "metadata": {},
   "outputs": [
    {
     "data": {
      "text/plain": [
       "1398292254320"
      ]
     },
     "execution_count": 96,
     "metadata": {},
     "output_type": "execute_result"
    }
   ],
   "source": [
    "id(f)"
   ]
  },
  {
   "cell_type": "code",
   "execution_count": 97,
   "id": "298fdc00-da85-435a-82d7-f797e649fb74",
   "metadata": {},
   "outputs": [
    {
     "data": {
      "text/plain": [
       "(23+45j)"
      ]
     },
     "execution_count": 97,
     "metadata": {},
     "output_type": "execute_result"
    }
   ],
   "source": [
    "23+45j"
   ]
  },
  {
   "cell_type": "code",
   "execution_count": 102,
   "id": "b5a10d2f-7d7b-4138-a054-6568ead07c83",
   "metadata": {},
   "outputs": [],
   "source": [
    "equation = (x**2 + 2*x + 5, 0)\n"
   ]
  },
  {
   "cell_type": "code",
   "execution_count": 103,
   "id": "b37504cf-899b-4dc7-bce2-c2ef318e3bff",
   "metadata": {},
   "outputs": [
    {
     "data": {
      "text/plain": [
       "(85, 0)"
      ]
     },
     "execution_count": 103,
     "metadata": {},
     "output_type": "execute_result"
    }
   ],
   "source": [
    "equation"
   ]
  },
  {
   "cell_type": "markdown",
   "id": "536eed41-acd3-408e-a39a-f363675cc658",
   "metadata": {},
   "source": [
    "## Python\n",
    "     Python is a high-level, general-purpose programming language known for its readability and simplicity. It was created by Guido van Rossum and first released in 1991\n",
    "    \n",
    "Python supports multiple programming paradigms, including procedural, object-oriented, and functional programming"
   ]
  },
  {
   "cell_type": "code",
   "execution_count": 108,
   "id": "c02cd486-b95b-402a-8584-4ba7d6050e8b",
   "metadata": {},
   "outputs": [],
   "source": [
    "import random\n",
    "\n",
    "def guess_the_number():\n",
    "    print(\"Welcome to 'Guess the Number'!\")\n",
    "    print(\"I'm thinking of a number between 1 and 100.\")\n",
    "    print(\"Try to guess it in as few attempts as possible.\\n\")\n",
    "\n",
    "    # Generate a random number\n",
    "    number_to_guess = random.randint(1, 100)\n",
    "    attempts = 0\n",
    "    guessed_correctly = False\n",
    "\n",
    "    while not guessed_correctly:\n",
    "        try:\n",
    "            # Get user input\n",
    "            guess = int(input(\"Enter your guess: \"))\n",
    "            attempts += 1\n",
    "\n",
    "            if guess < number_to_guess:\n",
    "                print(\"Too low! Try again.\")\n",
    "            elif guess > number_to_guess:\n",
    "                print(\"Too high! Try again.\")\n",
    "            else:\n",
    "                print(f\"Congratulations! You guessed the number in {attempts} attempts.\")\n",
    "                guessed_correctly = True\n",
    "        except ValueError:\n",
    "            print(\"Please enter a valid number.\")\n",
    "\n",
    "\n",
    "\n",
    "      \n",
    "\n",
    "\n",
    "\n"
   ]
  },
  {
   "cell_type": "code",
   "execution_count": 111,
   "id": "64d5f034-02df-4920-92eb-66ac90722ed6",
   "metadata": {},
   "outputs": [
    {
     "data": {
      "text/plain": [
       "<module 'random' from 'C:\\\\Users\\\\yadam\\\\AppData\\\\Local\\\\Programs\\\\Python\\\\Python313\\\\Lib\\\\random.py'>"
      ]
     },
     "execution_count": 111,
     "metadata": {},
     "output_type": "execute_result"
    }
   ],
   "source": [
    "random"
   ]
  },
  {
   "cell_type": "code",
   "execution_count": 113,
   "id": "aa2f7319-4198-4aac-a016-710c1b2b388e",
   "metadata": {},
   "outputs": [
    {
     "data": {
      "text/plain": [
       "599"
      ]
     },
     "execution_count": 113,
     "metadata": {},
     "output_type": "execute_result"
    }
   ],
   "source": [
    "365+234"
   ]
  },
  {
   "cell_type": "code",
   "execution_count": null,
   "id": "7dfbbc3b-fd39-4ec1-b18c-1b7359e3422e",
   "metadata": {},
   "outputs": [],
   "source": []
  }
 ],
 "metadata": {
  "kernelspec": {
   "display_name": "Python 3 (ipykernel)",
   "language": "python",
   "name": "python3"
  },
  "language_info": {
   "codemirror_mode": {
    "name": "ipython",
    "version": 3
   },
   "file_extension": ".py",
   "mimetype": "text/x-python",
   "name": "python",
   "nbconvert_exporter": "python",
   "pygments_lexer": "ipython3",
   "version": "3.13.4"
  }
 },
 "nbformat": 4,
 "nbformat_minor": 5
}
